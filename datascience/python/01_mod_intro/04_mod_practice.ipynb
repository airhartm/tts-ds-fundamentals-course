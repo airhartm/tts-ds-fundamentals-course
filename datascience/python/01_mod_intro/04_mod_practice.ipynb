{
 "cells": [
  {
   "cell_type": "markdown",
   "metadata": {},
   "source": [
    "Data Science Fundamentals: Python |\n",
    "[Table of Contents](../index.ipynb)\n",
    "- - - \n",
    "<!--NAVIGATION-->\n",
    "Module 1. [Basic Python Syntax](./01_mod_python_syntax.ipynb) | [Variables and Objects](./02_python_variables_objects.ipynb) | [Operators](./03_python_operators.ipynb) | **[Exercises](./04_mod_practice.ipynb)**"
   ]
  },
  {
   "cell_type": "markdown",
   "metadata": {},
   "source": [
    "# Module 1: Practice Exercises"
   ]
  },
  {
   "cell_type": "markdown",
   "metadata": {},
   "source": [
    "1. Accept the user's first and last name and print them in reverse order with a space between them"
   ]
  },
  {
   "cell_type": "code",
   "execution_count": 1,
   "metadata": {},
   "outputs": [
    {
     "name": "stdout",
     "output_type": "stream",
     "text": [
      "Input your First Name : michael\n",
      "Input your Last Name : airhart\n",
      "Hello  airhart michael\n"
     ]
    }
   ],
   "source": [
    "# 1\n",
    "# This does not check for invalid input.\n",
    "\n",
    "# Request first name\n",
    "firstname = input(\"Input your First Name : \")\n",
    "# Request last name\n",
    "lastname = input(\"Input your Last Name : \")\n",
    "# print the first and last name in reverse\n",
    "print(\"Hello \",lastname, firstname)"
   ]
  },
  {
   "cell_type": "markdown",
   "metadata": {},
   "source": [
    "2. Accept an integer (n) and compute the value of n+nn+nnn"
   ]
  },
  {
   "cell_type": "code",
   "execution_count": 2,
   "metadata": {},
   "outputs": [
    {
     "name": "stdout",
     "output_type": "stream",
     "text": [
      "Enter an integer: 3\n",
      "369\n"
     ]
    }
   ],
   "source": [
    "# 2\n",
    "#Accept an integer input from the user and compute the value of n+nn+nnn. \n",
    "\n",
    "# Request input\n",
    "userinput = input(\"Enter an integer: \")\n",
    "# Convert input to string\n",
    "value = str(userinput)\n",
    "# Concatenate string values, convert to integers, and add them\n",
    "result = int(value)+int(value+value)+int(value+value+value) \n",
    "# Display result\n",
    "print(result)"
   ]
  },
  {
   "cell_type": "markdown",
   "metadata": {},
   "source": [
    "3. Ask the user \"What country are you from?\" then print the following statement: \"I have heard that [input] is a beautiful country!\""
   ]
  },
  {
   "cell_type": "code",
   "execution_count": 3,
   "metadata": {},
   "outputs": [
    {
     "name": "stdout",
     "output_type": "stream",
     "text": [
      "What country are you from? USA\n",
      "I have heard that USA is a beautiful country!\n"
     ]
    }
   ],
   "source": [
    "# 3\n",
    "#Ask the user \"What country are you from?\" then print the following statement:\n",
    "#\"I have heard that [input] is a beautiful country!\"\n",
    "\n",
    "# Request country name\n",
    "country = input(\"What country are you from? \")\n",
    "# Display concatenated result\n",
    "print(\"I have heard that \"+country+\" is a beautiful country!\")"
   ]
  },
  {
   "cell_type": "markdown",
   "metadata": {},
   "source": [
    "4. What is the output of the following Python code?\n",
    "\n",
    "x = 10\n",
    "y = 50\n",
    "if (x ** 2 > 100 and y < 100):\n",
    "    print(x, y)"
   ]
  },
  {
   "cell_type": "code",
   "execution_count": 4,
   "metadata": {},
   "outputs": [

   ],
   "source": [
    "No output. X squared is not greater than 100."
   ]
  },
  {
   "cell_type": "markdown",
   "metadata": {},
   "source": [
    "5. What is the output of the following addition (+) operator, and why does this code chunk execute this way?\n",
    "\n",
    "a = [10, 20]\n",
    "b = a\n",
    "b += [30, 40]\n",
    "print(a)\n",
    "print(b)"
   ]
  },
  {
   "cell_type": "code",
   "execution_count": null,
   "metadata": {},
   "outputs": [],
   "source": [
    "a = [10, 20, 30, 40]\n",
    "b = [10, 20, 30, 40]\n",
    "\n",
    "\"b = a\" points the variable B to the same object as variable A, so both variables point to the same object.\n",
    "When the object for B is changed, because A points to whatever B does, A's value is changed. "
   ]
  },
  {
   "cell_type": "markdown",
   "metadata": {},
   "source": [
    "6. What is the output of the following code and what arithmetic operators is being used here? print(2%6)"
   ]
  },
  {
   "cell_type": "raw",
   "metadata": {},
   "source": [
    "The output is 2. The operator is modulo. 2/6 results in a value less than 1, resulting in a remainder of 2."
   ]
  },
  {
   "cell_type": "markdown",
   "metadata": {},
   "source": [
    "7. What is the output of the following code and what arithmetic operators is being used here? print(2 * 3 ** 3 * 4)"
   ]
  },
  {
   "cell_type": "raw",
   "metadata": {},
   "source": [
    "The result is 216. The operators are multiplication and exponentiation."
   ]
  },
  {
   "cell_type": "markdown",
   "metadata": {},
   "source": [
    "8. What is a text editor?"
   ]
  },
  {
   "cell_type": "raw",
   "metadata": {},
   "source": [
    "A text editor is an application that provides a user interface to create, change, or delete plain unformatted text. (Codes in the text may result in formatting in a WYSIWYG viewer.)"
   ]
  },
  {
   "cell_type": "markdown",
   "metadata": {},
   "source": [
    "9. What is python?"
   ]
  },
  {
   "cell_type": "raw",
   "metadata": {},
   "source": [
    "Python is a high-level, object-oriented application development language."
   ]
  },
  {
   "cell_type": "markdown",
   "metadata": {},
   "source": [
    "10. What is Jupyter Notebook, what type of Python environment is it, and what alternatives are there to Jupyter Notebook?"
   ]
  },
  {
   "cell_type": "code",
   "execution_count": null,
   "metadata": {},
   "outputs": [],
   "source": [
    "Jupyter Notebook describes itself as a \"web-based interactive computing platform\" and integrated development environment. But in Googling, I found sources disagreeing about whether it is a full-fledged IDE. Alternatives include a range of IDEs such as Eclipse, PyCharm, and Visual Studio Code."
   ]
  },
  {
   "cell_type": "markdown",
   "metadata": {},
   "source": [
    "<!--NAVIGATION-->\n",
    "Module 1. [Basic Python Syntax](./01_mod_python_syntax.ipynb) | [Variables and Objects](./02_python_variables_objects.ipynb) | [Operators](./03_python_operators.ipynb) | **[Practice](./04_mod_practice.ipynb)**\n",
    "<br>\n",
    "[top](#)"
   ]
  },
  {
   "cell_type": "markdown",
   "metadata": {},
   "source": [
    "- - -\n",
    "\n",
    "Copyright © 2020 Qualex Consulting Services Incorporated."
   ]
  }
 ],
 "metadata": {
  "kernelspec": {
   "display_name": "Python 3 (ipykernel)",
   "language": "python",
   "name": "python3"
  },
  "language_info": {
   "codemirror_mode": {
    "name": "ipython",
    "version": 3
   },
   "file_extension": ".py",
   "mimetype": "text/x-python",
   "name": "python",
   "nbconvert_exporter": "python",
   "pygments_lexer": "ipython3",
   "version": "3.11.3"
  }
 },
 "nbformat": 4,
 "nbformat_minor": 4
}
