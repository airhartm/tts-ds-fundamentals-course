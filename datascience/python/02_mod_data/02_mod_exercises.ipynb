{
 "cells": [
  {
   "cell_type": "markdown",
   "metadata": {},
   "source": [
    "# Module 2: Data Structure Exercises"
   ]
  },
  {
   "cell_type": "markdown",
   "metadata": {},
   "source": [
    "### Exercise 1\n",
    "In mathematics, the quadratic equation `ax^2+bx+c=0` can be solved with the formula `x=(-b±√((b^2-4ac)/2a))`.\n",
    "\n",
    "Write a function `solve_quadratic`, that returns both solutions of a generic quadratic as a pair (2-tuple) when the coefficients are given as parameters. It should work like this:<br>\n",
    "\n",
    "python<br>\n",
    "print(solve_quadratic(1,-3,2))<br>\n",
    "Output: (2.0,1.0)<br>\n",
    "print(solve_quadratic(1,2,1))<br>\n",
    "Output: (-1.0,-1.0)<br>\n",
    "<br>\n",
    "You may want to use the math.sqrt function from the math module in your solution. Test that your function works in the main function!"
   ]
  },
  {
   "cell_type": "code",
   "execution_count": 5,
   "metadata": {},
   "outputs": [
    {
     "name": "stdout",
     "output_type": "stream",
     "text": [
      "(2.0, 1.0)\n",
      "(-1.0, -1.0)\n"
     ]
    }
   ],
   "source": [
    "import math\n",
    "\n",
    "def solve_quadratic(coefficient_A, coefficient_B, coefficient_C):\n",
    "    discriminant = coefficient_B**2 - (4 * coefficient_A * coefficient_C)\n",
    "    if coefficient_A == 0:\n",
    "        return \"Coefficient A cannot be zero.\"\n",
    "    elif discriminant < 0:\n",
    "        return \"There are no real roots for these coefficients.\"\n",
    "    else:\n",
    "        root1 = (-coefficient_B + math.sqrt(discriminant)) / (2*coefficient_A)\n",
    "        root2 = (-coefficient_B - math.sqrt(discriminant)) / (2*coefficient_A)\n",
    "        return root1, root2\n",
    "print(solve_quadratic(1,-3,2))\n",
    "print(solve_quadratic(1,2,1))\n"
   ]
  },
  {
   "cell_type": "markdown",
   "metadata": {},
   "source": [
    "### Exercise 2\n",
    "Get a space-separated list of integers from the user, create a tuple of those integers. Then compute and print the result of `hash(tuple)`.\n",
    "\n",
    "[Documentation: hash():](https://docs.python.org/3/library/functions.html#hash)"
   ]
  },
  {
   "cell_type": "code",
   "execution_count": 17,
   "metadata": {},
   "outputs": [
    {
     "name": "stdout",
     "output_type": "stream",
     "text": [
      "Please enter a list of space separated integers:\n",
      "4 7 9\n",
      "['4', '7', '9']\n",
      "-5947865224667565851\n"
     ]
    }
   ],
   "source": [
    "print(\"Please enter a list of space separated integers:\")\n",
    "list_integers=input().split(\" \")\n",
    "tuple_integers=tuple(list_integers)\n",
    "print (hash(tuple_integers))\n"
   ]
  },
  {
   "cell_type": "markdown",
   "metadata": {},
   "source": [
    "### Exercise 3 \n",
    "Take the following two lists. Create a third list by picking a odd-index elements from the first list and even-index elements from the second."
   ]
  },
  {
   "cell_type": "code",
   "execution_count": 23,
   "metadata": {},
   "outputs": [
    {
     "name": "stdout",
     "output_type": "stream",
     "text": [
      "[3, 9, 15, 21, 8, 16, 24]\n"
     ]
    }
   ],
   "source": [
    "# Define lists\n",
    "list1 = [3, 6, 9, 12, 15, 18, 21]\n",
    "list2 = [4, 8, 12, 16, 20, 24, 28]\n",
    "list3 = []\n",
    "for i in range(0, len(list1), 2):\n",
    "    list3.append(list1[i])\n",
    "for i in range(1, len(list1), 2):\n",
    "    list3.append(list2[i])\n",
    "print(list3)\n"
   ]
  },
  {
   "cell_type": "markdown",
   "metadata": {},
   "source": [
    "### Exercise 4\n",
    "Take the following list. Slice it into three equal chunks and reverse each list."
   ]
  },
  {
   "cell_type": "code",
   "execution_count": 45,
   "metadata": {},
   "outputs": [
    {
     "name": "stdout",
     "output_type": "stream",
     "text": [
      "[[89, 78, 45], [45, 23, 14], [12, 11, 8]]\n"
     ]
    }
   ],
   "source": [
    "sampleList = [11, 45, 8, 23, 14, 12, 78, 45, 89]\n",
    "sampleList.sort(reverse=True)\n",
    "sampleLength=len(sampleList)\n",
    "chunkLength=int(sampleLength//3)\n",
    "newList=[sampleList[:chunkLength],sampleList[chunkLength:chunkLength * 2],sampleList[chunkLength * 2:]]\n",
    "print(newList)"
   ]
  },
  {
   "cell_type": "markdown",
   "metadata": {},
   "source": [
    "### Exercise 5\n",
    "Iterate through a given list and check if a given element already exists in a dictionary as a key’s value. If not, delete it from the list."
   ]
  },
  {
   "cell_type": "code",
   "execution_count": 53,
   "metadata": {},
   "outputs": [
    {
     "name": "stdout",
     "output_type": "stream",
     "text": [
      "[64, 37, 83, 97]\n"
     ]
    }
   ],
   "source": [
    "rollNumber = [47, 64, 69, 37, 76, 83, 95, 97]\n",
    "sampleDict ={'Zach':47, 'Emma':69, 'Kelly':76, 'Jason':97}\n",
    "for i in rollNumber:\n",
    "    if i not in sampleDict:\n",
    "        rollNumber.remove(i)\n",
    "print(rollNumber)"
   ]
  },
  {
   "cell_type": "code",
   "execution_count": 10,
   "metadata": {},
   "outputs": [
    {
     "name": "stdout",
     "output_type": "stream",
     "text": [
      "[47, 69, 76, 97]\n"
     ]
    }
   ],
   "source": []
  }
 ],
 "metadata": {
  "kernelspec": {
   "display_name": "Python 3 (ipykernel)",
   "language": "python",
   "name": "python3"
  },
  "language_info": {
   "codemirror_mode": {
    "name": "ipython",
    "version": 3
   },
   "file_extension": ".py",
   "mimetype": "text/x-python",
   "name": "python",
   "nbconvert_exporter": "python",
   "pygments_lexer": "ipython3",
   "version": "3.11.3"
  }
 },
 "nbformat": 4,
 "nbformat_minor": 4
}
