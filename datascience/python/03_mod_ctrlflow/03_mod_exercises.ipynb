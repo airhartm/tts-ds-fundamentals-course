{
 "cells": [
  {
   "cell_type": "markdown",
   "metadata": {},
   "source": [
    "# Module 3: Control Flow Exercises"
   ]
  },
  {
   "cell_type": "markdown",
   "metadata": {},
   "source": [
    "### 1. Guess a number between 1 to 9 given by the user. Hint. [Random](https://docs.python.org/3/library/random.html)"
   ]
  },
  {
   "cell_type": "code",
   "execution_count": 6,
   "metadata": {},
   "outputs": [
    {
     "name": "stdout",
     "output_type": "stream",
     "text": [
      "8\n",
      "Guess a number from 1 to 9:8\n",
      "You guessed correctly.\n"
     ]
    }
   ],
   "source": [
    "import random\n",
    "answer = random.randrange(1,9,1)\n",
    "guess_int=int(input(\"Guess a number from 1 to 9:\"))\n",
    "while guess_int != answer:\n",
    "    guess_int=int(input(\"Guess again! Please guess a number from 1 to 9:\"))\n",
    "print(\"You guessed correctly.\")\n"
   ]
  },
  {
   "cell_type": "markdown",
   "metadata": {},
   "source": [
    "### 2. Check the validity of password input by the user. Hint. [Re](https://docs.python.org/3/library/re.html)\n",
    "\n",
    "Validation:\n",
    "\n",
    "- At least 1 letter between [a-z] and 1 letter between [A-Z].\n",
    "- At least 1 number between [0-9].\n",
    "- At least 1 character from [$#@].\n",
    "- Minimum length 6 characters.\n",
    "- Maximum length 16 characters."
   ]
  },
  {
   "cell_type": "code",
   "execution_count": 15,
   "metadata": {},
   "outputs": [
    {
     "name": "stdout",
     "output_type": "stream",
     "text": [
      "Enter password: abcde\n",
      "Password must contain 6-16 characters.\n",
      "Enter password: abcderfadg\n",
      "Password is missing required characters.\n",
      "Enter password: abc9A$@defgh\n",
      "Password accepted.\n"
     ]
    }
   ],
   "source": [
    "import re\n",
    "\n",
    "# password requirements expressed as regular expressions\n",
    "filter = [\"[a-z]\", \"[A-Z]\", r\"\\d\", r\"\\$|#|@\"]\n",
    "\n",
    "# verify password meets criteria and return true or false\n",
    "def pass_verification(password):\n",
    "\n",
    "    # check length of password\n",
    "    if len(password) not in range(6,17):\n",
    "        print (\"Password must contain 6-16 characters.\")\n",
    "        return False\n",
    "    # compare password with character requirements\n",
    "    for match in filter: \n",
    "        if not re.search(match, password):\n",
    "            print (\"Password is missing required characters.\")\n",
    "            return False\n",
    "    return True\n",
    "\n",
    "# default settings\n",
    "test = False\n",
    "\n",
    "while not test:\n",
    "    password = input(\"Enter password: \")\n",
    "    test = pass_verification(password)\n",
    "print(\"Password accepted.\")\n"
   ]
  },
  {
   "cell_type": "markdown",
   "metadata": {},
   "source": [
    "### 3. Get input of the age of 3 people by user and determine oldest and youngest among them"
   ]
  },
  {
   "cell_type": "code",
   "execution_count": 19,
   "metadata": {},
   "outputs": [
    {
     "name": "stdout",
     "output_type": "stream",
     "text": [
      "Enter user 1's name: martha\n",
      "Enter user 1's age: 23\n",
      "Enter user 2's name: rudy\n",
      "Enter user 2's age: 12\n",
      "Enter user 3's name: jack\n",
      "Enter user 3's age: 10\n",
      "['rudy', '12'] ['jack', '10']\n"
     ]
    }
   ],
   "source": [
    "user=[]\n",
    "for i in range(1,4):\n",
    "    prompt_user = \"Enter user \"+str(i)+\"'s name: \"\n",
    "    prompt_age = \"Enter user \"+str(i)+\"'s age: \"\n",
    "    user.append([input(prompt_user),input(prompt_age)])\n",
    "print( max(user), min(user))"
   ]
  },
  {
   "cell_type": "markdown",
   "metadata": {},
   "source": [
    "### 4. A student will not be allowed to sit in exam if his/her attendance is less than 75%.\n",
    "\n",
    "Take following input from user\n",
    "\n",
    "- Number of classes held\n",
    "- Number of classes attended.\n",
    "- And print percentage of class attended\n",
    "- Is student is allowed to sit in exam or not?"
   ]
  },
  {
   "cell_type": "code",
   "execution_count": 31,
   "metadata": {},
   "outputs": [
    {
     "name": "stdout",
     "output_type": "stream",
     "text": [
      "Enter number of classes: 23\n",
      "Enter number of classes attended: 22\n",
      "Percentage of classes attended:  95.65\n",
      "Student may sit in exam.\n"
     ]
    }
   ],
   "source": [
    "# determine student's total number of classes  \n",
    "classes_quantity=int(input(\"Enter number of classes: \"))\n",
    "\n",
    "# determine student's number of classes attended  \n",
    "classes_attended=int(input(\"Enter number of classes attended: \"))\n",
    "\n",
    "# determine percentage of total classes that were attended\n",
    "attendance_grade=round((classes_attended/classes_quantity)*100,2)\n",
    "print(\"Percentage of classes attended: \", attendance_grade)\n",
    "\n",
    "# determine whether student may sit for exam\n",
    "if attendance_grade < 75:\n",
    "    print(\"Student may not sit in exam.\")\n",
    "else:\n",
    "    print(\"Student may sit in exam.\")"
   ]
  },
  {
   "cell_type": "markdown",
   "metadata": {},
   "source": [
    "### 5. Get an integer n from the user and perform the following actions:\n",
    "\n",
    "Find out - \n",
    "- if n is odd, print \"weird\"\n",
    "- if n is even and in the inclusive range of 2 to 5, print \"Not Weird\"\n",
    "- if n is even and in the inclusive range of 6 to 20, print \"Weird\"\n",
    "- if n is even and greater than 20, print \"Not Weird\""
   ]
  },
  {
   "cell_type": "code",
   "execution_count": 41,
   "metadata": {},
   "outputs": [
    {
     "name": "stdout",
     "output_type": "stream",
     "text": [
      "Enter an integer: 3\n",
      "weird\n"
     ]
    }
   ],
   "source": [
    "n=int(input(\"Enter an integer: \"))\n",
    "if n%2:\n",
    "    print(\"weird\")\n",
    "if not n%2 and n in range(2,6):\n",
    "    print (\"Not Weird\")\n",
    "if not n%2 and n in range(6,21):\n",
    "    print(\"Weird\")\n",
    "if not n%2 and n > 20:\n",
    "    print(\"Not Weird\")\n"
   ]
  },
  {
   "cell_type": "code",
   "execution_count": null,
   "metadata": {},
   "outputs": [],
   "source": []
  },
  {
   "cell_type": "code",
   "execution_count": null,
   "metadata": {},
   "outputs": [],
   "source": []
  },
  {
   "cell_type": "code",
   "execution_count": null,
   "metadata": {},
   "outputs": [],
   "source": []
  }
 ],
 "metadata": {
  "kernelspec": {
   "display_name": "Python 3 (ipykernel)",
   "language": "python",
   "name": "python3"
  },
  "language_info": {
   "codemirror_mode": {
    "name": "ipython",
    "version": 3
   },
   "file_extension": ".py",
   "mimetype": "text/x-python",
   "name": "python",
   "nbconvert_exporter": "python",
   "pygments_lexer": "ipython3",
   "version": "3.11.3"
  }
 },
 "nbformat": 4,
 "nbformat_minor": 4
}
