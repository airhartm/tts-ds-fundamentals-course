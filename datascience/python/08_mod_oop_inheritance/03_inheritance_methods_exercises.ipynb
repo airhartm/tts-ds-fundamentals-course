{
 "cells": [
  {
   "cell_type": "markdown",
   "metadata": {},
   "source": [
    "Data Science Fundamentals: Python |\n",
    "[Table of Contents](../index.ipynb)\n",
    "- - - \n",
    "<!--NAVIGATION-->\n",
    "Module 8. | [Inheritance & Methods](./01_oop_inheritance.ipynb) | [Sequences, Iterables, Generators Revisited](02_revisited.ipynb) | **[Exercises](./03_inheritance_methods_exercises.ipynb)**"
   ]
  },
  {
   "cell_type": "markdown",
   "metadata": {},
   "source": [
    "# Module 8: Practice Exercises"
   ]
  },
  {
   "cell_type": "markdown",
   "metadata": {},
   "source": [
    "## Exercise 1. "
   ]
  },
  {
   "cell_type": "markdown",
   "metadata": {},
   "source": [
    "You are given two classes, Person and Student, where Person is the base class and Student is the derived class. Completed code for Person and a declaration for Student are provided for you in the editor. Observe that Student inherits all the properties of Person.\n",
    "\n",
    "Complete the Student class by writing the following:\n",
    "\n",
    "A Student class constructor, which has 4 parameters:\n",
    "- A string, firstName\n",
    "- A string, lastName\n",
    "- An integer, id\n",
    "An integer array (or vector) of test scores, scores\n",
    "\n",
    "A char **calculate()** method that calculates a Student object's average and returns the grade character representative of their calculated average:\n",
    "```\n",
    "A | 90-100\n",
    "B | 80-89\n",
    "C | 70-79\n",
    "D | 60-69\n",
    "F | <60\n",
    "```"
   ]
  },
  {
   "cell_type": "code",
   "execution_count": 1,
   "metadata": {},
   "outputs": [],
   "source": [
    "# define the Vehicle class\n",
    "\n",
    "class Person:\n",
    "    def __init__(self, firstName, lastName):\n",
    "        self.firstName = firstName\n",
    "        self.lastName = lastName\n",
    "\n",
    "# define the Student class\n",
    "class Student(Person):\n",
    "    def __init__(self, firstName, lastName, id, scores):\n",
    "        super().__init__(firstName, lastName)\n",
    "        self.id = id\n",
    "        self.scores = scores\n",
    "\n",
    "    # define the calculate function\n",
    "    def calculate(self):\n",
    "        average = sum(self.scores) / len(self.scores)\n",
    "        if 90 <= average <= 100:\n",
    "            return 'A'\n",
    "        elif 80 <= average < 90:\n",
    "            return 'B'\n",
    "        elif 70 <= average < 80:\n",
    "            return 'C'\n",
    "        elif 60 <= average < 70:\n",
    "            return 'D'\n",
    "        else:\n",
    "            return 'F'     \n"
   ]
  },
  {
   "cell_type": "code",
   "execution_count": 3,
   "metadata": {},
   "outputs": [
    {
     "name": "stdout",
     "output_type": "stream",
     "text": [
      "Name: Gary Jackson \n",
      "Student ID: 7 \n",
      "You got a C.\n"
     ]
    }
   ],
   "source": [
    "# define the Person class\n",
    "\n",
    "class Person:\n",
    "    def __init__(self, firstName, lastName):\n",
    "        self.firstName = firstName\n",
    "        self.lastName = lastName\n",
    "\n",
    "# define the Student class\n",
    "class Student(Person):\n",
    "    def __init__(self, firstName, lastName, id, scores):\n",
    "        super().__init__(firstName, lastName)\n",
    "        self.id = id\n",
    "        self.scores = scores\n",
    "\n",
    "    # define the calculate function\n",
    "    def calculate(self):\n",
    "        average = sum(self.scores) / len(self.scores)\n",
    "        if 90 <= average <= 100:\n",
    "            return 'A'\n",
    "        elif 80 <= average < 90:\n",
    "            return 'B'\n",
    "        elif 70 <= average < 80:\n",
    "            return 'C'\n",
    "        elif 60 <= average < 70:\n",
    "            return 'D'\n",
    "        else:\n",
    "            return 'F'     \n",
    "\n",
    "# Create a Student object\n",
    "student = Student(\"Gary\", \"Jackson\", 7, [80, 50, 90, 75, 85])\n",
    "\n",
    "# Calculate a grade\n",
    "grade = student.calculate()\n",
    "\n",
    "# Print out the calculation\n",
    "description = \"Name: %s %s \\nStudent ID: %d \\nYou got a %s.\" % (student.firstName, student.lastName, student.id, grade)\n",
    "print(description)"
   ]
  },
  {
   "cell_type": "code",
   "execution_count": 3,
   "metadata": {},
   "outputs": [
    {
     "name": "stdout",
     "output_type": "stream",
     "text": [
      "Gary Jackson is a person.\n",
      "Gary Jackson is a student.\n",
      "Gary Jackson has grades.\n"
     ]
    }
   ],
   "source": [
    "# test code\n",
    "print(person1.desc())\n",
    "print(person2.desc())\n",
    "print(person3.desc())"
   ]
  },
  {
   "cell_type": "code",
   "execution_count": 1,
   "metadata": {},
   "outputs": [],
   "source": []
  },
  {
   "cell_type": "code",
   "execution_count": 4,
   "metadata": {},
   "outputs": [
    {
     "name": "stdout",
     "output_type": "stream",
     "text": [
      "Name: Gary Jackson \n",
      "Student ID: 7 \n",
      "You got a C.\n"
     ]
    }
   ],
   "source": [
    "# define the Person class\n",
    "\n",
    "class Person:\n",
    "    def __init__(self, firstName, lastName):\n",
    "        self.firstName = firstName\n",
    "        self.lastName = lastName\n",
    "\n",
    "# define the Student class\n",
    "class Student(Person):\n",
    "    def __init__(self, firstName, lastName, id, scores):\n",
    "        super().__init__(firstName, lastName)\n",
    "        self.id = id\n",
    "        self.scores = scores\n",
    "\n",
    "    # define the calculate function\n",
    "    def calculate(self):\n",
    "        average = sum(self.scores) / len(self.scores)\n",
    "        if 90 <= average <= 100:\n",
    "            return 'A'\n",
    "        elif 80 <= average < 90:\n",
    "            return 'B'\n",
    "        elif 70 <= average < 80:\n",
    "            return 'C'\n",
    "        elif 60 <= average < 70:\n",
    "            return 'D'\n",
    "        else:\n",
    "            return 'F'     \n",
    "\n",
    "# Create a Student object\n",
    "student = Student(\"Gary\", \"Jackson\", 7, [80, 50, 90, 75, 85])\n",
    "\n",
    "# Calculate a grade\n",
    "grade = student.calculate()\n",
    "\n",
    "# Print out the calculation\n",
    "description = \"Name: %s %s \\nStudent ID: %d \\nYou got a %s.\" % (student.firstName, student.lastName, student.id, grade)\n",
    "print(description)"
   ]
  },
  {
   "cell_type": "markdown",
   "metadata": {},
   "source": [
    "[How To Submit Your Exercises](https://www.youtube.com/watch?v=GCd4auHwZZY)"
   ]
  },
  {
   "cell_type": "markdown",
   "metadata": {},
   "source": [
    "- - - \n",
    "<!--NAVIGATION-->\n",
    "Module 8. | [Inheritance & Methods](./01_oop_inheritance.ipynb) | [Sequences, Iterables, Generators Revisited](02_revisited.ipynb) | **[Exercises](./03_inheritance_methods_exercises.ipynb)**\n",
    "<br>\n",
    "[Top](#)"
   ]
  },
  {
   "cell_type": "markdown",
   "metadata": {},
   "source": [
    "- - -\n",
    "\n",
    "Copyright © 2020 Qualex Consulting Services Incorporated."
   ]
  },
  {
   "cell_type": "code",
   "execution_count": null,
   "metadata": {},
   "outputs": [],
   "source": []
  }
 ],
 "metadata": {
  "kernelspec": {
   "display_name": "Python 3 (ipykernel)",
   "language": "python",
   "name": "python3"
  },
  "language_info": {
   "codemirror_mode": {
    "name": "ipython",
    "version": 3
   },
   "file_extension": ".py",
   "mimetype": "text/x-python",
   "name": "python",
   "nbconvert_exporter": "python",
   "pygments_lexer": "ipython3",
   "version": "3.11.3"
  }
 },
 "nbformat": 4,
 "nbformat_minor": 4
}
